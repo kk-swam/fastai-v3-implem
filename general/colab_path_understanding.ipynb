{
  "nbformat": 4,
  "nbformat_minor": 0,
  "metadata": {
    "colab": {
      "name": "colab_path_understanding.ipynb",
      "version": "0.3.2",
      "provenance": []
    },
    "kernelspec": {
      "name": "python3",
      "display_name": "Python 3"
    }
  },
  "cells": [
    {
      "cell_type": "code",
      "metadata": {
        "id": "JCmwU-UzLHgd",
        "colab_type": "code",
        "outputId": "d6f44c02-846e-442a-9a02-92c98efbb525",
        "colab": {
          "base_uri": "https://localhost:8080/",
          "height": 34
        }
      },
      "source": [
        "import os\n",
        "import shutil\n",
        "os.getcwd()"
      ],
      "execution_count": 0,
      "outputs": [
        {
          "output_type": "execute_result",
          "data": {
            "text/plain": [
              "'/content'"
            ]
          },
          "metadata": {
            "tags": []
          },
          "execution_count": 27
        }
      ]
    },
    {
      "cell_type": "markdown",
      "metadata": {
        "id": "LMZo2gz-M7yt",
        "colab_type": "text"
      },
      "source": [
        "The following lines of code makes google drive accessible from colab (mounts google drive to colab)"
      ]
    },
    {
      "cell_type": "code",
      "metadata": {
        "id": "gQDC80GnLOHL",
        "colab_type": "code",
        "outputId": "02bb04a1-b91e-4b95-ef31-ceba3ca71b6c",
        "colab": {
          "base_uri": "https://localhost:8080/",
          "height": 34
        }
      },
      "source": [
        "from google.colab import drive\n",
        "drive.mount('/content/drive')"
      ],
      "execution_count": 0,
      "outputs": [
        {
          "output_type": "stream",
          "text": [
            "Drive already mounted at /content/drive; to attempt to forcibly remount, call drive.mount(\"/content/drive\", force_remount=True).\n"
          ],
          "name": "stdout"
        }
      ]
    },
    {
      "cell_type": "markdown",
      "metadata": {
        "id": "oxpTRtVeNHQL",
        "colab_type": "text"
      },
      "source": [
        "Under 'drive/My Drive' we have our google drive contents"
      ]
    },
    {
      "cell_type": "code",
      "metadata": {
        "id": "-U31gtHoLyMW",
        "colab_type": "code",
        "outputId": "295fc0d4-00b6-4cf2-9894-4f2bb8c09870",
        "colab": {
          "base_uri": "https://localhost:8080/",
          "height": 68
        }
      },
      "source": [
        "os.listdir('drive/My Drive/Colab Notebooks')"
      ],
      "execution_count": 0,
      "outputs": [
        {
          "output_type": "execute_result",
          "data": {
            "text/plain": [
              "['Untitled0.ipynb',\n",
              " 'colab_path_understanding.ipynb',\n",
              " 'Copy of colab_path_understanding.ipynb']"
            ]
          },
          "metadata": {
            "tags": []
          },
          "execution_count": 30
        }
      ]
    },
    {
      "cell_type": "markdown",
      "metadata": {
        "id": "AoUZbr67NX8D",
        "colab_type": "text"
      },
      "source": [
        "We can deal with this like any normal directory in python - mkdir, read , write, etc"
      ]
    },
    {
      "cell_type": "markdown",
      "metadata": {
        "id": "7z_70GqROzCE",
        "colab_type": "text"
      },
      "source": [
        "Creating a new directory on google drive , creating a new file in it and writing to it"
      ]
    },
    {
      "cell_type": "code",
      "metadata": {
        "id": "aVXB9IBzL1gW",
        "colab_type": "code",
        "colab": {}
      },
      "source": [
        "os.mkdir('drive/My Drive/temp')\n",
        "with open('drive/My Drive/temp/test.txt','w') as fp:\n",
        "  for i in range(10):\n",
        "     fp.write(\"This is line %d\\r\\n\" % (i+1))\n"
      ],
      "execution_count": 0,
      "outputs": []
    },
    {
      "cell_type": "markdown",
      "metadata": {
        "id": "AUqToBaJO7GE",
        "colab_type": "text"
      },
      "source": [
        "Reading created file on google drive"
      ]
    },
    {
      "cell_type": "code",
      "metadata": {
        "id": "INfKTUm7Nl0a",
        "colab_type": "code",
        "outputId": "badb9a1d-52f0-4993-b5f1-8c8b469007c2",
        "colab": {
          "base_uri": "https://localhost:8080/",
          "height": 204
        }
      },
      "source": [
        "with open('drive/My Drive/temp/test.txt','r') as fp:\n",
        "  contents = fp.read()\n",
        "print(contents)"
      ],
      "execution_count": 0,
      "outputs": [
        {
          "output_type": "stream",
          "text": [
            "This is line 1\n",
            "This is line 2\n",
            "This is line 3\n",
            "This is line 4\n",
            "This is line 5\n",
            "This is line 6\n",
            "This is line 7\n",
            "This is line 8\n",
            "This is line 9\n",
            "This is line 10\n",
            "\n"
          ],
          "name": "stdout"
        }
      ]
    },
    {
      "cell_type": "markdown",
      "metadata": {
        "id": "q7QCJTrYPQHN",
        "colab_type": "text"
      },
      "source": [
        "Copying contents of directory temp on google drive recursively to directory temp2 on google drive"
      ]
    },
    {
      "cell_type": "code",
      "metadata": {
        "id": "YmUX_c0VPJKs",
        "colab_type": "code",
        "outputId": "1c56e6a6-47e9-47f7-a06c-2a481ba32949",
        "colab": {
          "base_uri": "https://localhost:8080/",
          "height": 34
        }
      },
      "source": [
        "shutil.copytree('drive/My Drive/temp','drive/My Drive/temp2')"
      ],
      "execution_count": 0,
      "outputs": [
        {
          "output_type": "execute_result",
          "data": {
            "text/plain": [
              "'drive/My Drive/temp2'"
            ]
          },
          "metadata": {
            "tags": []
          },
          "execution_count": 22
        }
      ]
    },
    {
      "cell_type": "markdown",
      "metadata": {
        "id": "nBdXJuwxPlpf",
        "colab_type": "text"
      },
      "source": [
        "Delete directory recursively"
      ]
    },
    {
      "cell_type": "code",
      "metadata": {
        "id": "nmybsgrDNrXR",
        "colab_type": "code",
        "colab": {}
      },
      "source": [
        "shutil.rmtree('drive/My Drive/temp2')"
      ],
      "execution_count": 0,
      "outputs": []
    },
    {
      "cell_type": "code",
      "metadata": {
        "id": "TLXpiT2yPvhV",
        "colab_type": "code",
        "colab": {}
      },
      "source": [
        ""
      ],
      "execution_count": 0,
      "outputs": []
    }
  ]
}